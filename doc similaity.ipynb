{
 "cells": [
  {
   "cell_type": "code",
   "execution_count": 1,
   "id": "bb6fc064",
   "metadata": {},
   "outputs": [],
   "source": [
    "import pandas as pd\n",
    "import numpy as np\n",
    "import re\n",
    "import nltk\n",
    "from nltk.corpus import stopwords \n",
    "from nltk.stem import WordNetLemmatizer\n",
    "from gensim.models.fasttext import FastText"
   ]
  },
  {
   "cell_type": "code",
   "execution_count": 3,
   "id": "ce18043e",
   "metadata": {},
   "outputs": [
    {
     "name": "stderr",
     "output_type": "stream",
     "text": [
      "[nltk_data] Downloading package stopwords to\n",
      "[nltk_data]     C:\\Users\\haris\\AppData\\Roaming\\nltk_data...\n",
      "[nltk_data]   Package stopwords is already up-to-date!\n",
      "[nltk_data] Downloading package wordnet to\n",
      "[nltk_data]     C:\\Users\\haris\\AppData\\Roaming\\nltk_data...\n",
      "[nltk_data]   Package wordnet is already up-to-date!\n"
     ]
    },
    {
     "data": {
      "text/plain": [
       "True"
      ]
     },
     "execution_count": 3,
     "metadata": {},
     "output_type": "execute_result"
    }
   ],
   "source": [
    "nltk.download('stopwords')\n",
    "nltk.download('wordnet')"
   ]
  },
  {
   "cell_type": "code",
   "execution_count": 4,
   "id": "6d015d8b",
   "metadata": {},
   "outputs": [],
   "source": [
    "data = pd.read_csv('Precily_Text_Similarity.csv')"
   ]
  },
  {
   "cell_type": "code",
   "execution_count": 5,
   "id": "7b15a307",
   "metadata": {},
   "outputs": [],
   "source": [
    "lemma = WordNetLemmatizer()\n",
    "def stemming(text):   # defining a function stemming\n",
    "    text = re.sub('[^a-zA-Z]',' ', text)\n",
    "    # it removes the other characters rather than alphabetical and replace with a white space \n",
    "    text = text.lower()  \n",
    "    # transforming the words into lowercase that is because stopwords are in lowercase, so that why any stopwords present\n",
    "    # in the text have not left to remove because of uppercase.\n",
    "    text = nltk.word_tokenize(text)\n",
    "    # Creating tokens\n",
    "    text = ' '.join([lemma.lemmatize(word) for word in text if not word in stopwords.words('english')])\n",
    "    # removing the stopwords if any and then lemmatize the tokens and then join them to form a single text\n",
    "    return text"
   ]
  },
  {
   "cell_type": "code",
   "execution_count": 6,
   "id": "c9c047ba",
   "metadata": {},
   "outputs": [],
   "source": [
    "data['stemmed_text1'] = data.text1.apply(lambda x: stemming(x))\n",
    "data['stemmed_text2'] = data.text2.apply(lambda x: stemming(x))"
   ]
  },
  {
   "cell_type": "code",
   "execution_count": 7,
   "id": "38c2f43f",
   "metadata": {},
   "outputs": [],
   "source": [
    "data['stemmed_text1'] = data.stemmed_text1.apply(lambda x: nltk.word_tokenize(x))\n",
    "data['stemmed_text2'] = data.stemmed_text2.apply(lambda x: nltk.word_tokenize(x))"
   ]
  },
  {
   "cell_type": "code",
   "execution_count": 8,
   "id": "a5878073",
   "metadata": {},
   "outputs": [],
   "source": [
    "corpus = data.stemmed_text1.to_list() + data.stemmed_text2.to_list()"
   ]
  },
  {
   "cell_type": "code",
   "execution_count": 9,
   "id": "46815bcc",
   "metadata": {
    "scrolled": true
   },
   "outputs": [],
   "source": [
    "# Set values for various parameters\n",
    "feature_size = 50    # Word vector dimensionality\n",
    "min_word_count = 1\n",
    "ft_model = FastText(corpus, vector_size=feature_size, min_count=min_word_count)"
   ]
  },
  {
   "cell_type": "code",
   "execution_count": 499,
   "id": "2c13d64c",
   "metadata": {},
   "outputs": [],
   "source": [
    "import pickle"
   ]
  },
  {
   "cell_type": "code",
   "execution_count": 501,
   "id": "26462e69",
   "metadata": {},
   "outputs": [],
   "source": [
    "# with open('word_embedded.pkl', 'wb') as f:\n",
    "#     pickle.dump(ft_model, f)"
   ]
  },
  {
   "cell_type": "code",
   "execution_count": null,
   "id": "76679304",
   "metadata": {},
   "outputs": [],
   "source": []
  }
 ],
 "metadata": {
  "kernelspec": {
   "display_name": "Python 3 (ipykernel)",
   "language": "python",
   "name": "python3"
  },
  "language_info": {
   "codemirror_mode": {
    "name": "ipython",
    "version": 3
   },
   "file_extension": ".py",
   "mimetype": "text/x-python",
   "name": "python",
   "nbconvert_exporter": "python",
   "pygments_lexer": "ipython3",
   "version": "3.9.12"
  }
 },
 "nbformat": 4,
 "nbformat_minor": 5
}
